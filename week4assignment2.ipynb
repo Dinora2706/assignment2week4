{
 "cells": [
  {
   "cell_type": "code",
   "execution_count": 8,
   "id": "1e5cb892",
   "metadata": {},
   "outputs": [
    {
     "name": "stdout",
     "output_type": "stream",
     "text": [
      "nice to see you here again, Andrew\n",
      "unfortunately, Marina ,that name has already been taken.\n",
      "nice to see you here again, Justin\n",
      "unfortunately, Selena ,that name has already been taken.\n",
      "nice to see you here again, Joe\n"
     ]
    }
   ],
   "source": [
    "current_users = [ \"Marina\", \"Victoria\", \"Jehhifer\", \"Selena\", \"Taylor\"]\n",
    "new_users = [\"Andrew\", \"Marina\", \"Justin\", \"Selena\", \"Joe\"]\n",
    "\n",
    "current_users_lower = []\n",
    "for user in current_users: \n",
    "    current_users_lower.append(user.lower())\n",
    "\n",
    "for new_user in new_users:\n",
    "    if new_user.lower() in current_users_lower:\n",
    "        print(\"unfortunately, \" + new_user + \" ,that name has already been taken.\")\n",
    "    else:\n",
    "        print(\"nice to see you here again, \" + new_user)"
   ]
  },
  {
   "cell_type": "code",
   "execution_count": null,
   "id": "53652ae6",
   "metadata": {},
   "outputs": [],
   "source": []
  }
 ],
 "metadata": {
  "kernelspec": {
   "display_name": "Python 3",
   "language": "python",
   "name": "python3"
  },
  "language_info": {
   "codemirror_mode": {
    "name": "ipython",
    "version": 3
   },
   "file_extension": ".py",
   "mimetype": "text/x-python",
   "name": "python",
   "nbconvert_exporter": "python",
   "pygments_lexer": "ipython3",
   "version": "3.8.8"
  }
 },
 "nbformat": 4,
 "nbformat_minor": 5
}
